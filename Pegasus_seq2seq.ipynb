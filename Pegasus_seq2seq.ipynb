{
  "nbformat": 4,
  "nbformat_minor": 0,
  "metadata": {
    "colab": {
      "name": "Pegasus_seq2seq.ipynb",
      "provenance": [],
      "collapsed_sections": []
    },
    "kernelspec": {
      "name": "python3",
      "display_name": "Python 3"
    },
    "language_info": {
      "name": "python"
    }
  },
  "cells": [
    {
      "cell_type": "markdown",
      "source": [
        "# Seq2Seq"
      ],
      "metadata": {
        "id": "a-tbQTNqdZXu"
      }
    },
    {
      "cell_type": "code",
      "execution_count": null,
      "metadata": {
        "id": "SoBHR2pEhBLw"
      },
      "outputs": [],
      "source": [
        "!pip install transformers"
      ]
    },
    {
      "cell_type": "code",
      "source": [
        "!pip install SentencePiece"
      ],
      "metadata": {
        "id": "oHAhvGhjUp9s"
      },
      "execution_count": null,
      "outputs": []
    },
    {
      "cell_type": "code",
      "source": [
        "from transformers import PegasusTokenizer, PegasusForConditionalGeneration"
      ],
      "metadata": {
        "id": "0xQ4w2uLFTO3"
      },
      "execution_count": null,
      "outputs": []
    },
    {
      "cell_type": "code",
      "source": [
        "tokenizer = PegasusTokenizer.from_pretrained(\"google/pegasus-large\")\n",
        "model = PegasusForConditionalGeneration.from_pretrained(\"google/pegasus-large\")"
      ],
      "metadata": {
        "id": "W_w9IctLFUyZ"
      },
      "execution_count": null,
      "outputs": []
    },
    {
      "cell_type": "code",
      "source": [
        "import pandas as pd\n",
        "import numpy as np"
      ],
      "metadata": {
        "id": "O_BCVoKaZTPO"
      },
      "execution_count": null,
      "outputs": []
    },
    {
      "cell_type": "code",
      "source": [
        "import glob"
      ],
      "metadata": {
        "id": "ogRf_JaraR_7"
      },
      "execution_count": null,
      "outputs": []
    },
    {
      "cell_type": "code",
      "source": [
        "df=pd.read_csv('/content/summarisation.csv')"
      ],
      "metadata": {
        "id": "4oCzuyTVZS7n"
      },
      "execution_count": null,
      "outputs": []
    },
    {
      "cell_type": "code",
      "source": [
        "import string"
      ],
      "metadata": {
        "id": "y0ro43QJMatp"
      },
      "execution_count": null,
      "outputs": []
    },
    {
      "cell_type": "code",
      "source": [
        "import re"
      ],
      "metadata": {
        "id": "9lIqcpywOHQr"
      },
      "execution_count": null,
      "outputs": []
    },
    {
      "cell_type": "code",
      "source": [
        "import torch\n",
        "import torch.nn as nn\n",
        "from torch.utils.data import Dataset, DataLoader\n",
        "import torch.optim as optim\n",
        "import torch.nn.functional as F"
      ],
      "metadata": {
        "id": "WOvC4mDcCOI2"
      },
      "execution_count": null,
      "outputs": []
    },
    {
      "cell_type": "code",
      "source": [
        "special_token_dict={'bos_token':'<bos>', 'eos_token':'<eos>'}"
      ],
      "metadata": {
        "id": "ZJz1050uKli4"
      },
      "execution_count": null,
      "outputs": []
    },
    {
      "cell_type": "code",
      "source": [
        "tokenizer.add_special_tokens(special_token_dict)"
      ],
      "metadata": {
        "colab": {
          "base_uri": "https://localhost:8080/"
        },
        "id": "zqrgkCd2ZDhP",
        "outputId": "b6a872b9-0254-4f06-cce3-53e6340d3617"
      },
      "execution_count": null,
      "outputs": [
        {
          "output_type": "execute_result",
          "data": {
            "text/plain": [
              "2"
            ]
          },
          "metadata": {},
          "execution_count": 15
        }
      ]
    },
    {
      "cell_type": "code",
      "source": [
        "model.resize_token_embeddings(len(tokenizer))"
      ],
      "metadata": {
        "colab": {
          "base_uri": "https://localhost:8080/"
        },
        "id": "NIR4sMvLsPJR",
        "outputId": "314bc21a-d18b-41e5-f9aa-34e71d1e0278"
      },
      "execution_count": null,
      "outputs": [
        {
          "output_type": "execute_result",
          "data": {
            "text/plain": [
              "Embedding(96105, 1024)"
            ]
          },
          "metadata": {},
          "execution_count": 16
        }
      ]
    },
    {
      "cell_type": "code",
      "source": [
        "class summary(Dataset):\n",
        "  def __init__(self,  path, tokenizer):\n",
        "      self.df=pd.read_csv(path)\n",
        "      self.tokenizer=tokenizer\n",
        "      self.x=self.df['article']\n",
        "      self.y=self.df['summary']\n",
        "      self.preprocessing()\n",
        "  def preprocessing(self):\n",
        "    self.x=self.x.apply(lambda x : x.translate(str.maketrans('', '', string.punctuation)))\n",
        "    self.x=self.x.apply(lambda x : re.sub(r'\\n\\n', '. ', x))\n",
        "    self.y=self.y.apply(lambda x : x.translate(str.maketrans('', '', string.punctuation)))\n",
        "    self.y=self.y.apply(lambda x : re.sub(r'\\n\\n', '. ', '<bos>' + x + '<eos>'))\n",
        "  def __len__(self):\n",
        "    return len(self.x)\n",
        "  def __getitem__(self, index):\n",
        "    input=self.tokenizer(self.x[index], padding='max_length', max_length=500, truncation=True)\n",
        "    input1=self.tokenizer(self.y[index], padding='max_length', max_length=300, truncation=True)\n",
        "    inp=np.array(input['input_ids'])\n",
        "    inp1=np.array(input['attention_mask'])\n",
        "    inp2=np.array(input1['input_ids'])[:-1]\n",
        "    inp3=np.array(input1['attention_mask'])[:-1]\n",
        "    inp4=np.array(input1['input_ids'])[1:]\n",
        "    #inp5=input1['attention_mask'][:,1:]\n",
        "    return {\n",
        "        'encoder_ids': torch.tensor(inp),\n",
        "        'encoder_mask': torch.tensor(inp1),\n",
        "        'decoder_ids': torch.tensor(inp2),\n",
        "        'decoder_mask': torch.tensor(inp3),\n",
        "        'label': torch.tensor(inp4)\n",
        "    }"
      ],
      "metadata": {
        "id": "YDbq7CMaCOF3"
      },
      "execution_count": null,
      "outputs": []
    },
    {
      "cell_type": "code",
      "source": [
        "data=summary('/content/summarisation.csv', tokenizer)"
      ],
      "metadata": {
        "id": "JFDu4JeKjM5I"
      },
      "execution_count": null,
      "outputs": []
    },
    {
      "cell_type": "code",
      "source": [
        "data_loader=DataLoader(dataset=data, batch_size=4)"
      ],
      "metadata": {
        "id": "cQ_BjSqRjM15"
      },
      "execution_count": null,
      "outputs": []
    },
    {
      "cell_type": "code",
      "source": [
        "class mo(nn.Module):\n",
        "  def __init__(self, model):\n",
        "    super().__init__()\n",
        "    self.model=model\n",
        "  def forward(self,x,x1,y,y1):\n",
        "    p=self.model(x, x1, y, y1).logits\n",
        "    return p"
      ],
      "metadata": {
        "id": "WHFICGiJn4eM"
      },
      "execution_count": null,
      "outputs": []
    },
    {
      "cell_type": "code",
      "source": [
        "m=mo(model)"
      ],
      "metadata": {
        "id": "eMP7WtDH-FIw"
      },
      "execution_count": null,
      "outputs": []
    },
    {
      "cell_type": "code",
      "source": [
        "learning_rate=0.00001"
      ],
      "metadata": {
        "id": "TUFtJna_-E6T"
      },
      "execution_count": null,
      "outputs": []
    },
    {
      "cell_type": "code",
      "source": [
        "criterion=nn.CrossEntropyLoss()\n",
        "loss=optim.Adam(m.parameters(), lr=learning_rate)"
      ],
      "metadata": {
        "id": "YxG6RgGQn4bM"
      },
      "execution_count": null,
      "outputs": []
    },
    {
      "cell_type": "code",
      "source": [
        "def train_epoch(model, data_loader):\n",
        "  model=model.train()\n",
        "  real=[]\n",
        "  pred=[]\n",
        "  l=[]\n",
        "  for i, data in enumerate(data_loader):\n",
        "    x=data['encoder_ids']\n",
        "    x1=data['encoder_mask']\n",
        "    y=data['decoder_ids']\n",
        "    y1=data['decoder_mask']\n",
        "    label=data['label']\n",
        "    scores=model(x,x1,y,y1)\n",
        "    pred.extend(list(scores.argmax(1).cpu().numpy()))\n",
        "    real.extend(list(y.cpu().numpy()))\n",
        "    loss=criterion(scores,y)\n",
        "    l.append(loss.item())\n",
        "\n",
        "    loss.backward()\n",
        "\n",
        "    optimizer.step()\n",
        "\n",
        "    scheduler.step()\n",
        "\n",
        "    optimizer.zero_grad()\n",
        "  f1=f1_score(pred, real)\n",
        "  lo=sum(l)/len(l)\n",
        "  return f1, lo"
      ],
      "metadata": {
        "id": "zB-5lMP6n4YW"
      },
      "execution_count": null,
      "outputs": []
    },
    {
      "cell_type": "code",
      "source": [
        "from collections import defaultdict\n",
        "from tqdm import tqdm\n",
        "history=defaultdict(list)\n",
        "for i in tqdm(range(1)):\n",
        "  #s=time.time()\n",
        "  f1,lo=train_epoch(model,data_loader)\n",
        "  #ef1,elo=eval_epoch(mo, eval_loader)\n",
        "  #e=time.time()\n",
        "  #tm,ts=epoch_time(s,e)\n",
        "\n",
        "  #print(f'Epoch Time: {tm}m {ts}s')\n",
        "  print(f'Train f1_score {f1} and train loss is {lo}')\n",
        "  #print(f'Eval f1_score {ef1} and eval loss is {elo}')\n",
        "  print()\n",
        "\n",
        "  history['train_f1'].append(f1)\n",
        "  history['train_loss'].append(lo)\n",
        "  # history['eval_f1'].append(ef1)\n",
        "  # history['eval_loss'].append(elo)"
      ],
      "metadata": {
        "id": "vjP7HxmUn4Dq"
      },
      "execution_count": null,
      "outputs": []
    },
    {
      "cell_type": "code",
      "source": [
        ""
      ],
      "metadata": {
        "id": "iap8kXI6n3-U"
      },
      "execution_count": null,
      "outputs": []
    },
    {
      "cell_type": "code",
      "source": [
        ""
      ],
      "metadata": {
        "id": "uWqIMqjin37b"
      },
      "execution_count": null,
      "outputs": []
    },
    {
      "cell_type": "code",
      "source": [
        ""
      ],
      "metadata": {
        "id": "VZp4t29kn34Q"
      },
      "execution_count": null,
      "outputs": []
    },
    {
      "cell_type": "code",
      "source": [
        ""
      ],
      "metadata": {
        "id": "dR_gxm6hn31G"
      },
      "execution_count": null,
      "outputs": []
    },
    {
      "cell_type": "code",
      "execution_count": null,
      "metadata": {
        "id": "r4YEROSgKZPu"
      },
      "outputs": [],
      "source": [
        ""
      ]
    }
  ]
}